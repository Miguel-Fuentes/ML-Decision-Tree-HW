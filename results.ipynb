{
 "cells": [
  {
   "cell_type": "markdown",
   "metadata": {},
   "source": [
    "# Generate Results"
   ]
  },
  {
   "cell_type": "code",
   "execution_count": 1,
   "metadata": {},
   "outputs": [],
   "source": [
    "import pandas as pd\n",
    "import decision_tree\n",
    "from collections import Counter"
   ]
  },
  {
   "cell_type": "code",
   "execution_count": 2,
   "metadata": {},
   "outputs": [],
   "source": [
    "folder = 'data_sets2/'"
   ]
  },
  {
   "cell_type": "code",
   "execution_count": 3,
   "metadata": {},
   "outputs": [
    {
     "name": "stdout",
     "output_type": "stream",
     "text": [
      "Reading data from data_sets2/\n",
      "Trees Initialized, trees will train now this may take up to 5 minutes\n",
      "Trees Trained\n"
     ]
    }
   ],
   "source": [
    "print(f'Reading data from {folder}')\n",
    "training_set = pd.read_csv(folder + 'training_set.csv')\n",
    "validation_set = pd.read_csv(folder + 'validation_set.csv')\n",
    "test_set = pd.read_csv(folder + 'test_set.csv')\n",
    "    \n",
    "# Initialize the two trees\n",
    "attributes = training_set.columns.to_list()\n",
    "attributes.remove('Class')\n",
    "\n",
    "tree1 = decision_tree.Node(attributes, [], training_set, decision_tree.entropy_gain)\n",
    "tree2 = decision_tree.Node(attributes, [], training_set, decision_tree.impurity_gain)\n",
    "print('Trees Initialized, trees will train now this may take up to 5 minutes')\n",
    "\n",
    "tree1.train()\n",
    "tree2.train()\n",
    "print('Trees Trained')"
   ]
  },
  {
   "cell_type": "code",
   "execution_count": 4,
   "metadata": {},
   "outputs": [
    {
     "data": {
      "text/plain": [
       "{'L': 0, 'K': 0, 'Entropy Acc': 0.7233333333333334, 'Impurity Acc': 0.725}"
      ]
     },
     "execution_count": 4,
     "metadata": {},
     "output_type": "execute_result"
    }
   ],
   "source": [
    "results = []\n",
    "results.append({'L':0, 'K': 0,\n",
    "                'Entropy Acc' : decision_tree.accuracy(tree1, test_set),\n",
    "                'Impurity Acc' : decision_tree.accuracy(tree2, test_set)})\n",
    "results[0]"
   ]
  },
  {
   "cell_type": "code",
   "execution_count": 5,
   "metadata": {},
   "outputs": [],
   "source": [
    "for L in [10,20]:\n",
    "    for K in [3, 7, 11, 15, 19]:\n",
    "        pruned1 = tree1.post_pruning(L, K, validation_set)\n",
    "        pruned2 = tree2.post_pruning(L, K, validation_set)\n",
    "            \n",
    "        results.append({'L':L, 'K': K,\n",
    "                        'Entropy Acc' : decision_tree.accuracy(pruned1, test_set),\n",
    "                        'Impurity Acc' : decision_tree.accuracy(pruned2, test_set)})"
   ]
  },
  {
   "cell_type": "code",
   "execution_count": 6,
   "metadata": {},
   "outputs": [
    {
     "data": {
      "text/html": [
       "<div>\n",
       "<style scoped>\n",
       "    .dataframe tbody tr th:only-of-type {\n",
       "        vertical-align: middle;\n",
       "    }\n",
       "\n",
       "    .dataframe tbody tr th {\n",
       "        vertical-align: top;\n",
       "    }\n",
       "\n",
       "    .dataframe thead th {\n",
       "        text-align: right;\n",
       "    }\n",
       "</style>\n",
       "<table border=\"1\" class=\"dataframe\">\n",
       "  <thead>\n",
       "    <tr style=\"text-align: right;\">\n",
       "      <th></th>\n",
       "      <th>Entropy Acc</th>\n",
       "      <th>Impurity Acc</th>\n",
       "      <th>K</th>\n",
       "      <th>L</th>\n",
       "    </tr>\n",
       "  </thead>\n",
       "  <tbody>\n",
       "    <tr>\n",
       "      <th>0</th>\n",
       "      <td>0.723333</td>\n",
       "      <td>0.725000</td>\n",
       "      <td>0</td>\n",
       "      <td>0</td>\n",
       "    </tr>\n",
       "    <tr>\n",
       "      <th>1</th>\n",
       "      <td>0.723333</td>\n",
       "      <td>0.735000</td>\n",
       "      <td>3</td>\n",
       "      <td>10</td>\n",
       "    </tr>\n",
       "    <tr>\n",
       "      <th>2</th>\n",
       "      <td>0.703333</td>\n",
       "      <td>0.730000</td>\n",
       "      <td>7</td>\n",
       "      <td>10</td>\n",
       "    </tr>\n",
       "    <tr>\n",
       "      <th>3</th>\n",
       "      <td>0.735000</td>\n",
       "      <td>0.718333</td>\n",
       "      <td>11</td>\n",
       "      <td>10</td>\n",
       "    </tr>\n",
       "    <tr>\n",
       "      <th>4</th>\n",
       "      <td>0.723333</td>\n",
       "      <td>0.726667</td>\n",
       "      <td>15</td>\n",
       "      <td>10</td>\n",
       "    </tr>\n",
       "    <tr>\n",
       "      <th>5</th>\n",
       "      <td>0.725000</td>\n",
       "      <td>0.716667</td>\n",
       "      <td>19</td>\n",
       "      <td>10</td>\n",
       "    </tr>\n",
       "    <tr>\n",
       "      <th>6</th>\n",
       "      <td>0.733333</td>\n",
       "      <td>0.740000</td>\n",
       "      <td>3</td>\n",
       "      <td>20</td>\n",
       "    </tr>\n",
       "    <tr>\n",
       "      <th>7</th>\n",
       "      <td>0.760000</td>\n",
       "      <td>0.726667</td>\n",
       "      <td>7</td>\n",
       "      <td>20</td>\n",
       "    </tr>\n",
       "    <tr>\n",
       "      <th>8</th>\n",
       "      <td>0.726667</td>\n",
       "      <td>0.740000</td>\n",
       "      <td>11</td>\n",
       "      <td>20</td>\n",
       "    </tr>\n",
       "    <tr>\n",
       "      <th>9</th>\n",
       "      <td>0.725000</td>\n",
       "      <td>0.741667</td>\n",
       "      <td>15</td>\n",
       "      <td>20</td>\n",
       "    </tr>\n",
       "    <tr>\n",
       "      <th>10</th>\n",
       "      <td>0.723333</td>\n",
       "      <td>0.715000</td>\n",
       "      <td>19</td>\n",
       "      <td>20</td>\n",
       "    </tr>\n",
       "  </tbody>\n",
       "</table>\n",
       "</div>"
      ],
      "text/plain": [
       "    Entropy Acc  Impurity Acc   K   L\n",
       "0      0.723333      0.725000   0   0\n",
       "1      0.723333      0.735000   3  10\n",
       "2      0.703333      0.730000   7  10\n",
       "3      0.735000      0.718333  11  10\n",
       "4      0.723333      0.726667  15  10\n",
       "5      0.725000      0.716667  19  10\n",
       "6      0.733333      0.740000   3  20\n",
       "7      0.760000      0.726667   7  20\n",
       "8      0.726667      0.740000  11  20\n",
       "9      0.725000      0.741667  15  20\n",
       "10     0.723333      0.715000  19  20"
      ]
     },
     "execution_count": 6,
     "metadata": {},
     "output_type": "execute_result"
    }
   ],
   "source": [
    "results_df = pd.DataFrame(results)\n",
    "results_df"
   ]
  },
  {
   "cell_type": "code",
   "execution_count": 7,
   "metadata": {},
   "outputs": [],
   "source": [
    "results_df.to_csv(folder + 'pruning_tests_results.csv')"
   ]
  },
  {
   "cell_type": "code",
   "execution_count": null,
   "metadata": {},
   "outputs": [],
   "source": []
  }
 ],
 "metadata": {
  "kernelspec": {
   "display_name": "Python 3",
   "language": "python",
   "name": "python3"
  },
  "language_info": {
   "codemirror_mode": {
    "name": "ipython",
    "version": 3
   },
   "file_extension": ".py",
   "mimetype": "text/x-python",
   "name": "python",
   "nbconvert_exporter": "python",
   "pygments_lexer": "ipython3",
   "version": "3.6.8"
  }
 },
 "nbformat": 4,
 "nbformat_minor": 2
}
