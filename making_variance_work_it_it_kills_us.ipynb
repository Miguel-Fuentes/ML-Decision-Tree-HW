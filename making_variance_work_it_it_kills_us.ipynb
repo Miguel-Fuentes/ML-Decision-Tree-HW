{
 "cells": [
  {
   "cell_type": "markdown",
   "metadata": {},
   "source": [
    "# We're going to make variance impurity work even if it kills us"
   ]
  },
  {
   "cell_type": "code",
   "execution_count": 1,
   "metadata": {},
   "outputs": [],
   "source": [
    "import pandas as pd\n",
    "import decision_tree\n",
    "import numpy as np\n",
    "from collections import Counter"
   ]
  },
  {
   "cell_type": "code",
   "execution_count": 2,
   "metadata": {},
   "outputs": [],
   "source": [
    "# This is the data from the homework, but with 'Y' changed to 'Class' and changed '-1' to '0' \n",
    "raw_values = np.array([\n",
    "    [0, 1, 0, 1, 1],\n",
    "    [1, 0, 1, 0, 1],\n",
    "    [1, 1, 1, 0, 1],\n",
    "    [0, 0, 0, 1, 1],\n",
    "    [1, 1, 1, 0, 1],\n",
    "    [0, 0, 1, 1, 0],\n",
    "    [0, 0, 0, 0, 0],\n",
    "    [0, 0, 1, 0, 0],\n",
    "    [1, 0, 0, 0, 0],\n",
    "    [0, 0, 1, 1, 0]\n",
    "])\n",
    "\n",
    "data = pd.DataFrame(raw_values,columns=['X1','X2','X3','X4','Class'])"
   ]
  },
  {
   "cell_type": "code",
   "execution_count": 3,
   "metadata": {},
   "outputs": [],
   "source": [
    "col_list = data.columns.to_list()\n",
    "col_list.remove('Class')\n",
    "\n",
    "tree = decision_tree.Node(col_list, [], data, decision_tree.impurity_gain)"
   ]
  },
  {
   "cell_type": "code",
   "execution_count": 4,
   "metadata": {},
   "outputs": [
    {
     "name": "stderr",
     "output_type": "stream",
     "text": [
      "C:\\Users\\Migue\\Desktop\\ML-Decision-Tree-HW\\decision_tree.py:154: RuntimeWarning: invalid value encountered in longlong_scalars\n",
      "  return (product / (total**values))\n"
     ]
    }
   ],
   "source": [
    "tree.train()"
   ]
  },
  {
   "cell_type": "code",
   "execution_count": 5,
   "metadata": {},
   "outputs": [
    {
     "name": "stdout",
     "output_type": "stream",
     "text": [
      "\n",
      "X2 = 0: \n",
      "| X1 = 0: \n",
      "| | X3 = 0: \n",
      "| | | X4 = 0: 0\n",
      "| | | X4 = 1: 1\n",
      "| | X3 = 1: 0\n",
      "| X1 = 1: \n",
      "| | X3 = 0: 0\n",
      "| | X3 = 1: 1\n",
      "X2 = 1: 1\n"
     ]
    }
   ],
   "source": [
    "print(tree)"
   ]
  },
  {
   "cell_type": "code",
   "execution_count": 14,
   "metadata": {},
   "outputs": [
    {
     "data": {
      "text/plain": [
       "[5, 5]"
      ]
     },
     "execution_count": 14,
     "metadata": {},
     "output_type": "execute_result"
    }
   ],
   "source": [
    "subset_counts2"
   ]
  },
  {
   "cell_type": "code",
   "execution_count": null,
   "metadata": {},
   "outputs": [],
   "source": []
  }
 ],
 "metadata": {
  "kernelspec": {
   "display_name": "Python 3",
   "language": "python",
   "name": "python3"
  },
  "language_info": {
   "codemirror_mode": {
    "name": "ipython",
    "version": 3
   },
   "file_extension": ".py",
   "mimetype": "text/x-python",
   "name": "python",
   "nbconvert_exporter": "python",
   "pygments_lexer": "ipython3",
   "version": "3.6.8"
  }
 },
 "nbformat": 4,
 "nbformat_minor": 2
}
