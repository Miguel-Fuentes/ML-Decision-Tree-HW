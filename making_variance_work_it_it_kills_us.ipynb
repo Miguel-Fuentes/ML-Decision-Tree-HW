{
 "cells": [
  {
   "cell_type": "markdown",
   "metadata": {},
   "source": [
    "# We're going to make variance impurity work even if it kills us"
   ]
  },
  {
   "cell_type": "code",
   "execution_count": 27,
   "metadata": {},
   "outputs": [],
   "source": [
    "import pandas as pd\n",
    "import decision_tree\n",
    "import numpy as np\n",
    "from collections import Counter\n",
    "import copy"
   ]
  },
  {
   "cell_type": "code",
   "execution_count": 12,
   "metadata": {},
   "outputs": [],
   "source": [
    "# This is the data from the homework, but with 'Y' changed to 'Class' and changed '-1' to '0' \n",
    "raw_values = np.array([\n",
    "    [0, 1, 0, 1, 1],\n",
    "    [1, 0, 1, 0, 1],\n",
    "    [1, 1, 1, 0, 1],\n",
    "    [0, 0, 0, 1, 1],\n",
    "    [1, 1, 1, 0, 1],\n",
    "    [0, 0, 1, 1, 0],\n",
    "    [0, 0, 0, 0, 0],\n",
    "    [0, 0, 1, 0, 0],\n",
    "    [1, 0, 0, 0, 0],\n",
    "    [0, 0, 1, 1, 0]\n",
    "])\n",
    "\n",
    "data = pd.DataFrame(raw_values,columns=['X1','X2','X3','X4','Class'])"
   ]
  },
  {
   "cell_type": "code",
   "execution_count": 20,
   "metadata": {},
   "outputs": [],
   "source": [
    "col_list = data.columns.to_list()\n",
    "col_list.remove('Class')\n",
    "\n",
    "tree = decision_tree.Node(col_list, [], data, decision_tree.impurity_gain)"
   ]
  },
  {
   "cell_type": "code",
   "execution_count": 21,
   "metadata": {},
   "outputs": [],
   "source": [
    "tree.train()"
   ]
  },
  {
   "cell_type": "code",
   "execution_count": 22,
   "metadata": {},
   "outputs": [
    {
     "name": "stdout",
     "output_type": "stream",
     "text": [
      "\n",
      "X2 = 0: \n",
      "| X1 = 0: \n",
      "| | X3 = 0: \n",
      "| | | X4 = 0: 0\n",
      "| | | X4 = 1: 1\n",
      "| | X3 = 1: 0\n",
      "| X1 = 1: \n",
      "| | X3 = 0: 0\n",
      "| | X3 = 1: 1\n",
      "X2 = 1: 1\n"
     ]
    }
   ],
   "source": [
    "print(tree)"
   ]
  },
  {
   "cell_type": "code",
   "execution_count": 23,
   "metadata": {},
   "outputs": [],
   "source": [
    "def convert_to_leaf(tree, target_node):\n",
    "    current_node = tree\n",
    "    for _, val in target_node.ancestors:\n",
    "        if val == 0:\n",
    "            current_node = current_node.val0\n",
    "        else:\n",
    "            current_node = current_node.val1\n",
    "    subset = decision_tree.filter_data(tree.data, current_node.ancestors)\n",
    "    counts = Counter(subset['Class'])\n",
    "    if counts[1] > counts[0]:\n",
    "        current_node.result = 1\n",
    "    else:\n",
    "        current_node.result = 0\n",
    "    current_node.attributes, current_node.val1, current_node.val0 = [], None, None"
   ]
  },
  {
   "cell_type": "code",
   "execution_count": 24,
   "metadata": {},
   "outputs": [
    {
     "name": "stdout",
     "output_type": "stream",
     "text": [
      "Heuristic: <function impurity_gain at 0x000001CA4115F8C8>\n",
      "Ancestors: [filter(attribute='X2', value=0), filter(attribute='X1', value=1)]\n",
      "Result: None\n",
      "Attributes: ['X3', 'X4']\n",
      "Split Attribute: X3\n",
      "Has children: True\n",
      "\n",
      "\n",
      "X2 = 0: \n",
      "| X1 = 0: \n",
      "| | X3 = 0: \n",
      "| | | X4 = 0: 0\n",
      "| | | X4 = 1: 1\n",
      "| | X3 = 1: 0\n",
      "| X1 = 1: 0\n",
      "X2 = 1: 1\n"
     ]
    }
   ],
   "source": [
    "to_leaf = tree.val0.val1\n",
    "print(repr(to_leaf))\n",
    "convert_to_leaf(tree, to_leaf)\n",
    "print(tree)"
   ]
  },
  {
   "cell_type": "code",
   "execution_count": 25,
   "metadata": {},
   "outputs": [
    {
     "data": {
      "text/html": [
       "<div>\n",
       "<style scoped>\n",
       "    .dataframe tbody tr th:only-of-type {\n",
       "        vertical-align: middle;\n",
       "    }\n",
       "\n",
       "    .dataframe tbody tr th {\n",
       "        vertical-align: top;\n",
       "    }\n",
       "\n",
       "    .dataframe thead th {\n",
       "        text-align: right;\n",
       "    }\n",
       "</style>\n",
       "<table border=\"1\" class=\"dataframe\">\n",
       "  <thead>\n",
       "    <tr style=\"text-align: right;\">\n",
       "      <th></th>\n",
       "      <th>X1</th>\n",
       "      <th>X2</th>\n",
       "      <th>X3</th>\n",
       "      <th>X4</th>\n",
       "      <th>Class</th>\n",
       "    </tr>\n",
       "  </thead>\n",
       "  <tbody>\n",
       "    <tr>\n",
       "      <th>1</th>\n",
       "      <td>1</td>\n",
       "      <td>0</td>\n",
       "      <td>1</td>\n",
       "      <td>0</td>\n",
       "      <td>1</td>\n",
       "    </tr>\n",
       "    <tr>\n",
       "      <th>8</th>\n",
       "      <td>1</td>\n",
       "      <td>0</td>\n",
       "      <td>0</td>\n",
       "      <td>0</td>\n",
       "      <td>0</td>\n",
       "    </tr>\n",
       "  </tbody>\n",
       "</table>\n",
       "</div>"
      ],
      "text/plain": [
       "   X1  X2  X3  X4  Class\n",
       "1   1   0   1   0      1\n",
       "8   1   0   0   0      0"
      ]
     },
     "execution_count": 25,
     "metadata": {},
     "output_type": "execute_result"
    }
   ],
   "source": [
    "decision_tree.filter_data(data,to_leaf.ancestors)"
   ]
  },
  {
   "cell_type": "code",
   "execution_count": 26,
   "metadata": {},
   "outputs": [],
   "source": [
    "def post_pruning(tree, l , k,):\n",
    "    best_tree = tree\n",
    "    best_acc = accuracy(tree, validation_data)\n",
    "    inner_nodes = first_k_nodes(tree, k)\n",
    "    for i in range (1, l):\n",
    "        new_tree = copy.deepcopy(tree)\n",
    "        m = random.randint(1, k)\n",
    "        for j in range(1, m):\n",
    "            target_node = random.choice(inner_nodes)\n",
    "            convert_to_leaf(new_tree, target_node)\n",
    "        new_acc = accuracy(new_tree, validation_data)\n",
    "        if new_acc > best_acc:\n",
    "            best_tree, best_acc = new_tree, new_acc\n",
    "    return best_tree"
   ]
  },
  {
   "cell_type": "code",
   "execution_count": null,
   "metadata": {},
   "outputs": [],
   "source": [
    "def post_pruning(self, l , k,):\n",
    "    best_tree = self\n",
    "    best_acc = accuracy(self, validation_data)\n",
    "    inner_nodes = first_k_nodes(tree, k)\n",
    "    for i in range (1, l):\n",
    "        new_tree = copy.deepcopy(self)\n",
    "        m = random.randint(1, k)\n",
    "        for j in range(1, m):\n",
    "            target_node = random.choice(inner_nodes)\n",
    "            convert_to_leaf(new_tree, target_node)\n",
    "        new_acc = accuracy(new_tree, validation_data)\n",
    "        if new_acc > best_acc:\n",
    "            best_tree, best_acc = new_tree, new_acc\n",
    "    return best_tree"
   ]
  }
 ],
 "metadata": {
  "kernelspec": {
   "display_name": "Python 3",
   "language": "python",
   "name": "python3"
  },
  "language_info": {
   "codemirror_mode": {
    "name": "ipython",
    "version": 3
   },
   "file_extension": ".py",
   "mimetype": "text/x-python",
   "name": "python",
   "nbconvert_exporter": "python",
   "pygments_lexer": "ipython3",
   "version": "3.6.8"
  }
 },
 "nbformat": 4,
 "nbformat_minor": 2
}
