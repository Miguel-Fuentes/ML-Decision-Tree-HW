{
 "cells": [
  {
   "cell_type": "code",
   "execution_count": 1,
   "metadata": {},
   "outputs": [],
   "source": [
    "import pandas as pd\n",
    "import decision_tree\n",
    "import numpy as np"
   ]
  },
  {
   "cell_type": "markdown",
   "metadata": {},
   "source": [
    "## Testing Constructor"
   ]
  },
  {
   "cell_type": "code",
   "execution_count": 2,
   "metadata": {},
   "outputs": [],
   "source": [
    "# This is the data from the homework, but with 'Y' changed to 'Class' and changed '-1' to '0' \n",
    "raw_values = np.array([\n",
    "    [0, 1, 0, 1, 1],\n",
    "    [1, 0, 1, 0, 1],\n",
    "    [1, 1, 1, 0, 1],\n",
    "    [0, 0, 0, 1, 1],\n",
    "    [1, 1, 1, 0, 1],\n",
    "    [0, 0, 1, 1, 0],\n",
    "    [0, 0, 0, 0, 0],\n",
    "    [0, 0, 1, 0, 0],\n",
    "    [1, 0, 0, 0, 0],\n",
    "    [0, 0, 1, 1, 0]\n",
    "])\n",
    "\n",
    "data = pd.DataFrame(raw_values,columns=['X1','X2','X3','X4','Class'])"
   ]
  },
  {
   "cell_type": "code",
   "execution_count": 3,
   "metadata": {},
   "outputs": [
    {
     "data": {
      "text/html": [
       "<div>\n",
       "<style scoped>\n",
       "    .dataframe tbody tr th:only-of-type {\n",
       "        vertical-align: middle;\n",
       "    }\n",
       "\n",
       "    .dataframe tbody tr th {\n",
       "        vertical-align: top;\n",
       "    }\n",
       "\n",
       "    .dataframe thead th {\n",
       "        text-align: right;\n",
       "    }\n",
       "</style>\n",
       "<table border=\"1\" class=\"dataframe\">\n",
       "  <thead>\n",
       "    <tr style=\"text-align: right;\">\n",
       "      <th></th>\n",
       "      <th>X1</th>\n",
       "      <th>X2</th>\n",
       "      <th>X3</th>\n",
       "      <th>X4</th>\n",
       "      <th>Class</th>\n",
       "    </tr>\n",
       "  </thead>\n",
       "  <tbody>\n",
       "    <tr>\n",
       "      <th>0</th>\n",
       "      <td>0</td>\n",
       "      <td>1</td>\n",
       "      <td>0</td>\n",
       "      <td>1</td>\n",
       "      <td>1</td>\n",
       "    </tr>\n",
       "    <tr>\n",
       "      <th>1</th>\n",
       "      <td>1</td>\n",
       "      <td>0</td>\n",
       "      <td>1</td>\n",
       "      <td>0</td>\n",
       "      <td>1</td>\n",
       "    </tr>\n",
       "    <tr>\n",
       "      <th>2</th>\n",
       "      <td>1</td>\n",
       "      <td>1</td>\n",
       "      <td>1</td>\n",
       "      <td>0</td>\n",
       "      <td>1</td>\n",
       "    </tr>\n",
       "    <tr>\n",
       "      <th>3</th>\n",
       "      <td>0</td>\n",
       "      <td>0</td>\n",
       "      <td>0</td>\n",
       "      <td>1</td>\n",
       "      <td>1</td>\n",
       "    </tr>\n",
       "    <tr>\n",
       "      <th>4</th>\n",
       "      <td>1</td>\n",
       "      <td>1</td>\n",
       "      <td>1</td>\n",
       "      <td>0</td>\n",
       "      <td>1</td>\n",
       "    </tr>\n",
       "    <tr>\n",
       "      <th>5</th>\n",
       "      <td>0</td>\n",
       "      <td>0</td>\n",
       "      <td>1</td>\n",
       "      <td>1</td>\n",
       "      <td>0</td>\n",
       "    </tr>\n",
       "    <tr>\n",
       "      <th>6</th>\n",
       "      <td>0</td>\n",
       "      <td>0</td>\n",
       "      <td>0</td>\n",
       "      <td>0</td>\n",
       "      <td>0</td>\n",
       "    </tr>\n",
       "    <tr>\n",
       "      <th>7</th>\n",
       "      <td>0</td>\n",
       "      <td>0</td>\n",
       "      <td>1</td>\n",
       "      <td>0</td>\n",
       "      <td>0</td>\n",
       "    </tr>\n",
       "    <tr>\n",
       "      <th>8</th>\n",
       "      <td>1</td>\n",
       "      <td>0</td>\n",
       "      <td>0</td>\n",
       "      <td>0</td>\n",
       "      <td>0</td>\n",
       "    </tr>\n",
       "    <tr>\n",
       "      <th>9</th>\n",
       "      <td>0</td>\n",
       "      <td>0</td>\n",
       "      <td>1</td>\n",
       "      <td>1</td>\n",
       "      <td>0</td>\n",
       "    </tr>\n",
       "  </tbody>\n",
       "</table>\n",
       "</div>"
      ],
      "text/plain": [
       "   X1  X2  X3  X4  Class\n",
       "0   0   1   0   1      1\n",
       "1   1   0   1   0      1\n",
       "2   1   1   1   0      1\n",
       "3   0   0   0   1      1\n",
       "4   1   1   1   0      1\n",
       "5   0   0   1   1      0\n",
       "6   0   0   0   0      0\n",
       "7   0   0   1   0      0\n",
       "8   1   0   0   0      0\n",
       "9   0   0   1   1      0"
      ]
     },
     "execution_count": 3,
     "metadata": {},
     "output_type": "execute_result"
    }
   ],
   "source": [
    "data.head(10)"
   ]
  },
  {
   "cell_type": "code",
   "execution_count": 4,
   "metadata": {},
   "outputs": [],
   "source": [
    "col_list = data.columns.to_list()\n",
    "col_list.remove('Class')\n",
    "\n",
    "tree = decision_tree.Node(col_list, [], data, decision_tree.info_gain)"
   ]
  },
  {
   "cell_type": "code",
   "execution_count": 5,
   "metadata": {},
   "outputs": [
    {
     "name": "stdout",
     "output_type": "stream",
     "text": [
      "Heuristic: <function info_gain at 0x000001CC913E0620>\n",
      "Ancestors: []\n",
      "Result: None\n",
      "Attributes: ['X1', 'X2', 'X3', 'X4']\n",
      "\n"
     ]
    }
   ],
   "source": [
    "print(repr(tree))"
   ]
  },
  {
   "cell_type": "markdown",
   "metadata": {},
   "source": [
    "## Information Gain"
   ]
  },
  {
   "cell_type": "code",
   "execution_count": 6,
   "metadata": {},
   "outputs": [
    {
     "data": {
      "text/plain": [
       "0.3958156020033583"
      ]
     },
     "execution_count": 6,
     "metadata": {},
     "output_type": "execute_result"
    }
   ],
   "source": [
    "decision_tree.info_gain(tree,'X2')"
   ]
  },
  {
   "cell_type": "markdown",
   "metadata": {},
   "source": [
    "## Max_gain"
   ]
  },
  {
   "cell_type": "code",
   "execution_count": 7,
   "metadata": {},
   "outputs": [
    {
     "data": {
      "text/plain": [
       "gain_tuples(node=Heuristic: <function info_gain at 0x000001CC913E0620>\n",
       "Ancestors: []\n",
       "Result: None\n",
       "Attributes: ['X1', 'X2', 'X3', 'X4']\n",
       ", attribute='X2', gain=0.3958156020033583)"
      ]
     },
     "execution_count": 7,
     "metadata": {},
     "output_type": "execute_result"
    }
   ],
   "source": [
    "tree.max_gain()"
   ]
  },
  {
   "cell_type": "markdown",
   "metadata": {},
   "source": [
    "## Try Splitting Once"
   ]
  },
  {
   "cell_type": "code",
   "execution_count": 8,
   "metadata": {},
   "outputs": [],
   "source": [
    "tree.split('X2')"
   ]
  },
  {
   "cell_type": "code",
   "execution_count": 9,
   "metadata": {},
   "outputs": [
    {
     "name": "stdout",
     "output_type": "stream",
     "text": [
      "Heuristic: <function info_gain at 0x000001CC913E0620>\n",
      "Ancestors: [filter(attribute='X2', value=1)]\n",
      "Result: 1\n",
      "Attributes: []\n",
      "\n",
      "Heuristic: <function info_gain at 0x000001CC913E0620>\n",
      "Ancestors: [filter(attribute='X2', value=0)]\n",
      "Result: None\n",
      "Attributes: ['X1', 'X3', 'X4']\n",
      "\n"
     ]
    }
   ],
   "source": [
    "print(repr(tree.val1))\n",
    "print(repr(tree.val0))"
   ]
  },
  {
   "cell_type": "markdown",
   "metadata": {},
   "source": [
    "## See if max_gain still works"
   ]
  },
  {
   "cell_type": "code",
   "execution_count": 10,
   "metadata": {},
   "outputs": [],
   "source": [
    "max_tuple = tree.max_gain()"
   ]
  },
  {
   "cell_type": "code",
   "execution_count": 11,
   "metadata": {},
   "outputs": [],
   "source": [
    "max_tuple.node.split(max_tuple.attribute)"
   ]
  },
  {
   "cell_type": "code",
   "execution_count": 14,
   "metadata": {},
   "outputs": [
    {
     "name": "stdout",
     "output_type": "stream",
     "text": [
      "Heuristic: <function info_gain at 0x000001CC913E0620>\n",
      "Ancestors: []\n",
      "Result: None\n",
      "Attributes: ['X1', 'X2', 'X3', 'X4']\n",
      "\n",
      "Heuristic: <function info_gain at 0x000001CC913E0620>\n",
      "Ancestors: [filter(attribute='X2', value=1)]\n",
      "Result: 1\n",
      "Attributes: []\n",
      "\n",
      "Heuristic: <function info_gain at 0x000001CC913E0620>\n",
      "Ancestors: [filter(attribute='X2', value=0)]\n",
      "Result: None\n",
      "Attributes: ['X1', 'X3', 'X4']\n",
      "\n",
      "Heuristic: <function info_gain at 0x000001CC913E0620>\n",
      "Ancestors: [filter(attribute='X2', value=0), filter(attribute='X1', value=1)]\n",
      "Result: None\n",
      "Attributes: ['X3', 'X4']\n",
      "\n",
      "Heuristic: <function info_gain at 0x000001CC913E0620>\n",
      "Ancestors: [filter(attribute='X2', value=0), filter(attribute='X1', value=0)]\n",
      "Result: None\n",
      "Attributes: ['X3', 'X4']\n",
      "\n"
     ]
    }
   ],
   "source": [
    "print(repr(tree))\n",
    "print(repr(tree.val1))\n",
    "print(repr(tree.val0))\n",
    "print(repr(tree.val0.val1))\n",
    "print(repr(tree.val0.val0))"
   ]
  },
  {
   "cell_type": "markdown",
   "metadata": {},
   "source": [
    "### This seems like it is working correctly!!!!!"
   ]
  },
  {
   "cell_type": "code",
   "execution_count": 15,
   "metadata": {},
   "outputs": [],
   "source": [
    "data = pd.DataFrame(raw_values,columns=['X1','X2','X3','X4','Class'])\n",
    "col_list = data.columns.to_list()\n",
    "col_list.remove('Class')\n",
    "\n",
    "tree2 = decision_tree.Node(col_list, [], data, decision_tree.info_gain)"
   ]
  },
  {
   "cell_type": "code",
   "execution_count": 16,
   "metadata": {},
   "outputs": [],
   "source": [
    "tree2.train()"
   ]
  },
  {
   "cell_type": "code",
   "execution_count": 20,
   "metadata": {},
   "outputs": [],
   "source": [
    "def traverse(rootnode):\n",
    "    this_level = [rootnode]\n",
    "    while this_level:\n",
    "        next_level = list()\n",
    "        for n in this_level:\n",
    "            print(repr(n)),\n",
    "            if n.val0:\n",
    "                next_level.append(n.val1)\n",
    "            if n.val1:\n",
    "                next_level.append(n.val0)\n",
    "        print\n",
    "        this_level = next_level"
   ]
  },
  {
   "cell_type": "code",
   "execution_count": 21,
   "metadata": {},
   "outputs": [
    {
     "name": "stdout",
     "output_type": "stream",
     "text": [
      "Heuristic: <function info_gain at 0x000001CC913E0620>\n",
      "Ancestors: []\n",
      "Result: None\n",
      "Attributes: ['X1', 'X2', 'X3', 'X4']\n",
      "\n",
      "Heuristic: <function info_gain at 0x000001CC913E0620>\n",
      "Ancestors: [filter(attribute='X2', value=1)]\n",
      "Result: 1\n",
      "Attributes: []\n",
      "\n",
      "Heuristic: <function info_gain at 0x000001CC913E0620>\n",
      "Ancestors: [filter(attribute='X2', value=0)]\n",
      "Result: None\n",
      "Attributes: ['X1', 'X3', 'X4']\n",
      "\n",
      "Heuristic: <function info_gain at 0x000001CC913E0620>\n",
      "Ancestors: [filter(attribute='X2', value=0), filter(attribute='X1', value=1)]\n",
      "Result: None\n",
      "Attributes: ['X3', 'X4']\n",
      "\n",
      "Heuristic: <function info_gain at 0x000001CC913E0620>\n",
      "Ancestors: [filter(attribute='X2', value=0), filter(attribute='X1', value=0)]\n",
      "Result: None\n",
      "Attributes: ['X3', 'X4']\n",
      "\n",
      "Heuristic: <function info_gain at 0x000001CC913E0620>\n",
      "Ancestors: [filter(attribute='X2', value=0), filter(attribute='X1', value=1), filter(attribute='X3', value=1)]\n",
      "Result: 1\n",
      "Attributes: []\n",
      "\n",
      "Heuristic: <function info_gain at 0x000001CC913E0620>\n",
      "Ancestors: [filter(attribute='X2', value=0), filter(attribute='X1', value=1), filter(attribute='X3', value=0)]\n",
      "Result: 0\n",
      "Attributes: ['X4']\n",
      "\n",
      "Heuristic: <function info_gain at 0x000001CC913E0620>\n",
      "Ancestors: [filter(attribute='X2', value=0), filter(attribute='X1', value=0), filter(attribute='X3', value=1)]\n",
      "Result: 0\n",
      "Attributes: ['X4']\n",
      "\n",
      "Heuristic: <function info_gain at 0x000001CC913E0620>\n",
      "Ancestors: [filter(attribute='X2', value=0), filter(attribute='X1', value=0), filter(attribute='X3', value=0)]\n",
      "Result: None\n",
      "Attributes: ['X4']\n",
      "\n",
      "Heuristic: <function info_gain at 0x000001CC913E0620>\n",
      "Ancestors: [filter(attribute='X2', value=0), filter(attribute='X1', value=1), filter(attribute='X3', value=0), filter(attribute='X4', value=1)]\n",
      "Result: None\n",
      "Attributes: []\n",
      "\n",
      "Heuristic: <function info_gain at 0x000001CC913E0620>\n",
      "Ancestors: [filter(attribute='X2', value=0), filter(attribute='X1', value=1), filter(attribute='X3', value=0), filter(attribute='X4', value=0)]\n",
      "Result: 0\n",
      "Attributes: []\n",
      "\n",
      "Heuristic: <function info_gain at 0x000001CC913E0620>\n",
      "Ancestors: [filter(attribute='X2', value=0), filter(attribute='X1', value=0), filter(attribute='X3', value=1), filter(attribute='X4', value=1)]\n",
      "Result: 0\n",
      "Attributes: []\n",
      "\n",
      "Heuristic: <function info_gain at 0x000001CC913E0620>\n",
      "Ancestors: [filter(attribute='X2', value=0), filter(attribute='X1', value=0), filter(attribute='X3', value=1), filter(attribute='X4', value=0)]\n",
      "Result: 0\n",
      "Attributes: []\n",
      "\n",
      "Heuristic: <function info_gain at 0x000001CC913E0620>\n",
      "Ancestors: [filter(attribute='X2', value=0), filter(attribute='X1', value=0), filter(attribute='X3', value=0), filter(attribute='X4', value=1)]\n",
      "Result: 1\n",
      "Attributes: []\n",
      "\n",
      "Heuristic: <function info_gain at 0x000001CC913E0620>\n",
      "Ancestors: [filter(attribute='X2', value=0), filter(attribute='X1', value=0), filter(attribute='X3', value=0), filter(attribute='X4', value=0)]\n",
      "Result: 0\n",
      "Attributes: []\n",
      "\n"
     ]
    }
   ],
   "source": [
    "traverse(tree2)"
   ]
  },
  {
   "cell_type": "code",
   "execution_count": null,
   "metadata": {},
   "outputs": [],
   "source": []
  }
 ],
 "metadata": {
  "kernelspec": {
   "display_name": "Python 3",
   "language": "python",
   "name": "python3"
  },
  "language_info": {
   "codemirror_mode": {
    "name": "ipython",
    "version": 3
   },
   "file_extension": ".py",
   "mimetype": "text/x-python",
   "name": "python",
   "nbconvert_exporter": "python",
   "pygments_lexer": "ipython3",
   "version": "3.6.8"
  }
 },
 "nbformat": 4,
 "nbformat_minor": 2
}
